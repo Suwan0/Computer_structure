{
 "cells": [
  {
   "cell_type": "markdown",
   "id": "9d076170",
   "metadata": {},
   "source": [
    "# 1.1서론"
   ]
  },
  {
   "cell_type": "markdown",
   "id": "426cf742",
   "metadata": {},
   "source": [
    "## 컴퓨터 응용 분야의 종류와 특성"
   ]
  },
  {
   "cell_type": "markdown",
   "id": "f4e4b375",
   "metadata": {},
   "source": [
    "### 컴퓨터가 응용되는 세가지 분야\n",
    "\n",
    "   1. 개인용 컴퓨터\n",
    "      - 낮은 가격으로 단일 사용자에게 좋은 성능을 제공하는 것을 중요시하며 제 3자 소프트웨어를 실행한다.\n",
    "      \n",
    "      \n",
    "   2. 서버\n",
    "      - 과거 대형 컴퓨터로 불리던 것의 현대적 형태이다.\n",
    "      - 보통 네트워크가 접근의 필요충분 조건이다.\n",
    "      - 작업이 단일하거나 여러 개일 수 있다.\n",
    "      - 개인용 컴퓨터와 같은 기술로 제작되지만, 연산과 입출력 용량의 확장성이 훨씬 크다.\n",
    "      - 서버는 고장나면 매우 큰 손실이 발생하므로 신용도를 매우 강조!\n",
    "      \n",
    "      \n",
    "   3. 임베디드 컴퓨터\n",
    "      - 임베디드 시스템은 한 가지 응용을 수행하거나 서로 연관된 일련의 프로그램을 실행하도록 설계되어 있다.\n",
    "      - 보통의 임베디드 컴퓨터는 다른 하드웨어와 한 덩어리로 묶인 단일 시스템으로 공급\n",
    "      - 임베디드 응용은 필요조건으로 경제성과 소모전력의 최소화를 가진다.\n",
    "      - 고장 감내 기능을 갖추고 있는 경우도 있다.\n",
    "      - 소비자 지향형 임베디드는 단순함을 추구하는 경우도 있는데 여기서 단순함의 정의는 단 한 가지 기능만을 완벽하게 수행하는 것을 의미한다."
   ]
  },
  {
   "cell_type": "markdown",
   "id": "1864fb61",
   "metadata": {},
   "source": []
  },
  {
   "cell_type": "markdown",
   "id": "11cd8635",
   "metadata": {},
   "source": []
  },
  {
   "cell_type": "markdown",
   "id": "d7bf1f65",
   "metadata": {},
   "source": []
  },
  {
   "cell_type": "markdown",
   "id": "702b1de5",
   "metadata": {},
   "source": []
  },
  {
   "cell_type": "markdown",
   "id": "461b5f09",
   "metadata": {},
   "source": []
  },
  {
   "cell_type": "markdown",
   "id": "4a4da187",
   "metadata": {},
   "source": []
  },
  {
   "cell_type": "markdown",
   "id": "9b9d4681",
   "metadata": {},
   "source": []
  },
  {
   "cell_type": "markdown",
   "id": "8e022f13",
   "metadata": {},
   "source": []
  },
  {
   "cell_type": "markdown",
   "id": "c68fe43d",
   "metadata": {},
   "source": []
  }
 ],
 "metadata": {
  "kernelspec": {
   "display_name": "Python 3 (ipykernel)",
   "language": "python",
   "name": "python3"
  },
  "language_info": {
   "codemirror_mode": {
    "name": "ipython",
    "version": 3
   },
   "file_extension": ".py",
   "mimetype": "text/x-python",
   "name": "python",
   "nbconvert_exporter": "python",
   "pygments_lexer": "ipython3",
   "version": "3.9.13"
  }
 },
 "nbformat": 4,
 "nbformat_minor": 5
}
